{
 "cells": [
  {
   "cell_type": "code",
   "execution_count": null,
   "metadata": {},
   "outputs": [],
   "source": [
    "import logging\n",
    "import abc import ABC, abstractmethod\n",
    "\n",
    "class Model(ABC):\n",
    "    \"\"\"_summary_\n",
    "\n",
    "    Abstract class for all models\n",
    "    \"\"\"\n",
    "    def train(self, X_train, y_train):\n",
    "        \"\"\"_summary_\n",
    "\n",
    "        Train the model with the given data\n",
    "        \"\"\"\n",
    "        pass"
   ]
  }
 ],
 "metadata": {
  "language_info": {
   "name": "python"
  }
 },
 "nbformat": 4,
 "nbformat_minor": 2
}
