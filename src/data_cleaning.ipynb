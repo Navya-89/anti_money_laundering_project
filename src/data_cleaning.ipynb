{
 "cells": [
  {
   "cell_type": "code",
   "execution_count": null,
   "metadata": {},
   "outputs": [],
   "source": [
    "import logging\n",
    "import os\n",
    "import sys \n",
    "from abc import ABC, abstractmethod\n",
    "import numpy as np\n",
    "import pandas as pd\n",
    "from sklearn.model_selection import train_test_split\n",
    "\n"
   ]
  },
  {
   "cell_type": "code",
   "execution_count": null,
   "metadata": {},
   "outputs": [],
   "source": [
    "class DataStrategy(ABC):\n",
    "    \"\"\"\n",
    "    Abstracxt class defining the interface for the data strategy\n",
    "    Args:\n",
    "        ABC (_type_): _description_\n",
    "    \"\"\"\n",
    "    @abstractmethod\n",
    "    def handle_data(self, data: pd.DataFrame) -> Union[pd.DataFrame, pd.Series]:\n",
    "        pass\n",
    "    "
   ]
  },
  {
   "cell_type": "code",
   "execution_count": null,
   "metadata": {},
   "outputs": [],
   "source": [
    "class DataPreprocessing(DataStrategy):\n",
    "    \"\"\"\n",
    "    Class for data preprocessing\n",
    "    Args:\n",
    "        DataStrategy (_type_): _description_\n",
    "    \"\"\"\n",
    "    def handle_data(self, data: pd.DataFrame) -> pd.DataFrame:\n",
    "        \"\"\"\n",
    "        Method for handling data\n",
    "        Args:\n",
    "            data (pd.DataFrame): _description_\n",
    "        Returns:\n",
    "            pd.DataFrame: _description_\n",
    "        \"\"\"\n",
    "        try:\n",
    "            data = self.remove_missing_values(data)\n",
    "            return data\n",
    "        except Exception as e:\n",
    "            logging.error(f\"Error in DataPreprocessing: {}\".format(e))\n",
    "            raise e"
   ]
  },
  {
   "cell_type": "code",
   "execution_count": null,
   "metadata": {},
   "outputs": [],
   "source": [
    "class DataDivideStrategy(DataStrategy):\n",
    "    \"\"\"\n",
    "    Class for data division\n",
    "    Args:\n",
    "        DataStrategy (_type_): _description_\n",
    "    \"\"\"\n",
    "    def handle_data(self, data: pd.DataFrame) -> Union[pd.DataFrame, pd.Series]:\n",
    "        \"\"\"\n",
    "        Method for handling data\n",
    "        Args:\n",
    "            data (pd.DataFrame): _description_\n",
    "        Returns:\n",
    "            Union[pd.DataFrame, pd.Series]: _description_\n",
    "        \"\"\"\n",
    "        try:\n",
    "            X = data.drop(columns=[\"target\"], axis=1)\n",
    "            y = data[\"target\"]\n",
    "            X_train, X_test, y_train, y_test = train_test_split(X,y, test_size=0.2, random_state=42)\n",
    "            return X_train, X_test, y_train, y_test\n",
    "        except Exception as e:\n",
    "            logging.error(f\"Error in DataDivideStrategy: {e}\")\n",
    "            raise e"
   ]
  },
  {
   "cell_type": "code",
   "execution_count": null,
   "metadata": {},
   "outputs": [],
   "source": [
    "class DataCleaning:\n",
    "    def __init__(self, data: pd.DataFrame, strategy: DataStrategy):\n",
    "        self.data = data\n",
    "        self.strategy = strategy\n",
    "    \n",
    "    def handle_data(self) -> Union[pd.DataFrame, pd.Series]:\n",
    "        try:\n",
    "            return self.strategy.handle_data(self.data)\n",
    "        except Exception as e:          \n",
    "            logging.error(f\"Error in DataCleaning: {e}\")\n",
    "            raise e"
   ]
  }
 ],
 "metadata": {
  "kernelspec": {
   "display_name": "Python 3",
   "language": "python",
   "name": "python3"
  },
  "language_info": {
   "name": "python",
   "version": "3.10.12"
  }
 },
 "nbformat": 4,
 "nbformat_minor": 2
}
