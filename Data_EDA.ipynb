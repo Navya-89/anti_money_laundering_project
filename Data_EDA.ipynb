{
 "cells": [
  {
   "cell_type": "markdown",
   "id": "545a4440",
   "metadata": {},
   "source": [
    "# MLOPS PROJECT - AML DATA UNDERSTANDING"
   ]
  },
  {
   "cell_type": "code",
   "execution_count": 32,
   "id": "c448b631",
   "metadata": {},
   "outputs": [],
   "source": [
    "import pandas as pd\n",
    "import numpy as np\n",
    "import matplotlib.pyplot as plt"
   ]
  },
  {
   "cell_type": "code",
   "execution_count": 3,
   "id": "a1d08e00",
   "metadata": {},
   "outputs": [],
   "source": [
    "df = pd.read_csv('HI-Small_Trans.csv')"
   ]
  },
  {
   "cell_type": "code",
   "execution_count": 13,
   "id": "2f387943",
   "metadata": {},
   "outputs": [
    {
     "data": {
      "text/html": [
       "<div>\n",
       "<style scoped>\n",
       "    .dataframe tbody tr th:only-of-type {\n",
       "        vertical-align: middle;\n",
       "    }\n",
       "\n",
       "    .dataframe tbody tr th {\n",
       "        vertical-align: top;\n",
       "    }\n",
       "\n",
       "    .dataframe thead th {\n",
       "        text-align: right;\n",
       "    }\n",
       "</style>\n",
       "<table border=\"1\" class=\"dataframe\">\n",
       "  <thead>\n",
       "    <tr style=\"text-align: right;\">\n",
       "      <th></th>\n",
       "      <th>Timestamp</th>\n",
       "      <th>From Bank</th>\n",
       "      <th>Account</th>\n",
       "      <th>To Bank</th>\n",
       "      <th>Account.1</th>\n",
       "      <th>Amount Received</th>\n",
       "      <th>Receiving Currency</th>\n",
       "      <th>Amount Paid</th>\n",
       "      <th>Payment Currency</th>\n",
       "      <th>Payment Format</th>\n",
       "      <th>Is Laundering</th>\n",
       "    </tr>\n",
       "  </thead>\n",
       "  <tbody>\n",
       "    <tr>\n",
       "      <th>0</th>\n",
       "      <td>2022/09/01 00:20</td>\n",
       "      <td>10</td>\n",
       "      <td>8000EBD30</td>\n",
       "      <td>10</td>\n",
       "      <td>8000EBD30</td>\n",
       "      <td>3697.34</td>\n",
       "      <td>US Dollar</td>\n",
       "      <td>3697.34</td>\n",
       "      <td>US Dollar</td>\n",
       "      <td>Reinvestment</td>\n",
       "      <td>0</td>\n",
       "    </tr>\n",
       "    <tr>\n",
       "      <th>1</th>\n",
       "      <td>2022/09/01 00:20</td>\n",
       "      <td>3208</td>\n",
       "      <td>8000F4580</td>\n",
       "      <td>1</td>\n",
       "      <td>8000F5340</td>\n",
       "      <td>0.01</td>\n",
       "      <td>US Dollar</td>\n",
       "      <td>0.01</td>\n",
       "      <td>US Dollar</td>\n",
       "      <td>Cheque</td>\n",
       "      <td>0</td>\n",
       "    </tr>\n",
       "    <tr>\n",
       "      <th>2</th>\n",
       "      <td>2022/09/01 00:00</td>\n",
       "      <td>3209</td>\n",
       "      <td>8000F4670</td>\n",
       "      <td>3209</td>\n",
       "      <td>8000F4670</td>\n",
       "      <td>14675.57</td>\n",
       "      <td>US Dollar</td>\n",
       "      <td>14675.57</td>\n",
       "      <td>US Dollar</td>\n",
       "      <td>Reinvestment</td>\n",
       "      <td>0</td>\n",
       "    </tr>\n",
       "    <tr>\n",
       "      <th>3</th>\n",
       "      <td>2022/09/01 00:02</td>\n",
       "      <td>12</td>\n",
       "      <td>8000F5030</td>\n",
       "      <td>12</td>\n",
       "      <td>8000F5030</td>\n",
       "      <td>2806.97</td>\n",
       "      <td>US Dollar</td>\n",
       "      <td>2806.97</td>\n",
       "      <td>US Dollar</td>\n",
       "      <td>Reinvestment</td>\n",
       "      <td>0</td>\n",
       "    </tr>\n",
       "    <tr>\n",
       "      <th>4</th>\n",
       "      <td>2022/09/01 00:06</td>\n",
       "      <td>10</td>\n",
       "      <td>8000F5200</td>\n",
       "      <td>10</td>\n",
       "      <td>8000F5200</td>\n",
       "      <td>36682.97</td>\n",
       "      <td>US Dollar</td>\n",
       "      <td>36682.97</td>\n",
       "      <td>US Dollar</td>\n",
       "      <td>Reinvestment</td>\n",
       "      <td>0</td>\n",
       "    </tr>\n",
       "  </tbody>\n",
       "</table>\n",
       "</div>"
      ],
      "text/plain": [
       "          Timestamp  From Bank    Account  To Bank  Account.1  \\\n",
       "0  2022/09/01 00:20         10  8000EBD30       10  8000EBD30   \n",
       "1  2022/09/01 00:20       3208  8000F4580        1  8000F5340   \n",
       "2  2022/09/01 00:00       3209  8000F4670     3209  8000F4670   \n",
       "3  2022/09/01 00:02         12  8000F5030       12  8000F5030   \n",
       "4  2022/09/01 00:06         10  8000F5200       10  8000F5200   \n",
       "\n",
       "   Amount Received Receiving Currency  Amount Paid Payment Currency  \\\n",
       "0          3697.34          US Dollar      3697.34        US Dollar   \n",
       "1             0.01          US Dollar         0.01        US Dollar   \n",
       "2         14675.57          US Dollar     14675.57        US Dollar   \n",
       "3          2806.97          US Dollar      2806.97        US Dollar   \n",
       "4         36682.97          US Dollar     36682.97        US Dollar   \n",
       "\n",
       "  Payment Format  Is Laundering  \n",
       "0   Reinvestment              0  \n",
       "1         Cheque              0  \n",
       "2   Reinvestment              0  \n",
       "3   Reinvestment              0  \n",
       "4   Reinvestment              0  "
      ]
     },
     "execution_count": 13,
     "metadata": {},
     "output_type": "execute_result"
    }
   ],
   "source": [
    "df.head()"
   ]
  },
  {
   "cell_type": "code",
   "execution_count": 11,
   "id": "a6083371",
   "metadata": {},
   "outputs": [
    {
     "data": {
      "text/html": [
       "<div>\n",
       "<style scoped>\n",
       "    .dataframe tbody tr th:only-of-type {\n",
       "        vertical-align: middle;\n",
       "    }\n",
       "\n",
       "    .dataframe tbody tr th {\n",
       "        vertical-align: top;\n",
       "    }\n",
       "\n",
       "    .dataframe thead th {\n",
       "        text-align: right;\n",
       "    }\n",
       "</style>\n",
       "<table border=\"1\" class=\"dataframe\">\n",
       "  <thead>\n",
       "    <tr style=\"text-align: right;\">\n",
       "      <th></th>\n",
       "      <th>Timestamp</th>\n",
       "      <th>From Bank</th>\n",
       "      <th>Account</th>\n",
       "      <th>To Bank</th>\n",
       "      <th>Account.1</th>\n",
       "      <th>Amount Received</th>\n",
       "      <th>Receiving Currency</th>\n",
       "      <th>Amount Paid</th>\n",
       "      <th>Payment Currency</th>\n",
       "      <th>Payment Format</th>\n",
       "      <th>Is Laundering</th>\n",
       "    </tr>\n",
       "  </thead>\n",
       "  <tbody>\n",
       "    <tr>\n",
       "      <th>count</th>\n",
       "      <td>5078345</td>\n",
       "      <td>5.078345e+06</td>\n",
       "      <td>5078345</td>\n",
       "      <td>5.078345e+06</td>\n",
       "      <td>5078345</td>\n",
       "      <td>5.078345e+06</td>\n",
       "      <td>5078345</td>\n",
       "      <td>5.078345e+06</td>\n",
       "      <td>5078345</td>\n",
       "      <td>5078345</td>\n",
       "      <td>5.078345e+06</td>\n",
       "    </tr>\n",
       "    <tr>\n",
       "      <th>unique</th>\n",
       "      <td>15018</td>\n",
       "      <td>NaN</td>\n",
       "      <td>496995</td>\n",
       "      <td>NaN</td>\n",
       "      <td>420636</td>\n",
       "      <td>NaN</td>\n",
       "      <td>15</td>\n",
       "      <td>NaN</td>\n",
       "      <td>15</td>\n",
       "      <td>7</td>\n",
       "      <td>NaN</td>\n",
       "    </tr>\n",
       "    <tr>\n",
       "      <th>top</th>\n",
       "      <td>2022/09/01 00:04</td>\n",
       "      <td>NaN</td>\n",
       "      <td>100428660</td>\n",
       "      <td>NaN</td>\n",
       "      <td>100428660</td>\n",
       "      <td>NaN</td>\n",
       "      <td>US Dollar</td>\n",
       "      <td>NaN</td>\n",
       "      <td>US Dollar</td>\n",
       "      <td>Cheque</td>\n",
       "      <td>NaN</td>\n",
       "    </tr>\n",
       "    <tr>\n",
       "      <th>freq</th>\n",
       "      <td>11193</td>\n",
       "      <td>NaN</td>\n",
       "      <td>168672</td>\n",
       "      <td>NaN</td>\n",
       "      <td>1084</td>\n",
       "      <td>NaN</td>\n",
       "      <td>1879341</td>\n",
       "      <td>NaN</td>\n",
       "      <td>1895172</td>\n",
       "      <td>1864331</td>\n",
       "      <td>NaN</td>\n",
       "    </tr>\n",
       "    <tr>\n",
       "      <th>mean</th>\n",
       "      <td>NaN</td>\n",
       "      <td>4.573057e+04</td>\n",
       "      <td>NaN</td>\n",
       "      <td>6.574456e+04</td>\n",
       "      <td>NaN</td>\n",
       "      <td>5.988726e+06</td>\n",
       "      <td>NaN</td>\n",
       "      <td>4.509273e+06</td>\n",
       "      <td>NaN</td>\n",
       "      <td>NaN</td>\n",
       "      <td>1.019427e-03</td>\n",
       "    </tr>\n",
       "    <tr>\n",
       "      <th>std</th>\n",
       "      <td>NaN</td>\n",
       "      <td>8.176562e+04</td>\n",
       "      <td>NaN</td>\n",
       "      <td>8.409299e+04</td>\n",
       "      <td>NaN</td>\n",
       "      <td>1.037183e+09</td>\n",
       "      <td>NaN</td>\n",
       "      <td>8.697728e+08</td>\n",
       "      <td>NaN</td>\n",
       "      <td>NaN</td>\n",
       "      <td>3.191219e-02</td>\n",
       "    </tr>\n",
       "    <tr>\n",
       "      <th>min</th>\n",
       "      <td>NaN</td>\n",
       "      <td>1.000000e+00</td>\n",
       "      <td>NaN</td>\n",
       "      <td>1.000000e+00</td>\n",
       "      <td>NaN</td>\n",
       "      <td>1.000000e-06</td>\n",
       "      <td>NaN</td>\n",
       "      <td>1.000000e-06</td>\n",
       "      <td>NaN</td>\n",
       "      <td>NaN</td>\n",
       "      <td>0.000000e+00</td>\n",
       "    </tr>\n",
       "    <tr>\n",
       "      <th>25%</th>\n",
       "      <td>NaN</td>\n",
       "      <td>1.190000e+02</td>\n",
       "      <td>NaN</td>\n",
       "      <td>4.259000e+03</td>\n",
       "      <td>NaN</td>\n",
       "      <td>1.833700e+02</td>\n",
       "      <td>NaN</td>\n",
       "      <td>1.844800e+02</td>\n",
       "      <td>NaN</td>\n",
       "      <td>NaN</td>\n",
       "      <td>0.000000e+00</td>\n",
       "    </tr>\n",
       "    <tr>\n",
       "      <th>50%</th>\n",
       "      <td>NaN</td>\n",
       "      <td>9.679000e+03</td>\n",
       "      <td>NaN</td>\n",
       "      <td>2.156800e+04</td>\n",
       "      <td>NaN</td>\n",
       "      <td>1.411010e+03</td>\n",
       "      <td>NaN</td>\n",
       "      <td>1.414540e+03</td>\n",
       "      <td>NaN</td>\n",
       "      <td>NaN</td>\n",
       "      <td>0.000000e+00</td>\n",
       "    </tr>\n",
       "    <tr>\n",
       "      <th>75%</th>\n",
       "      <td>NaN</td>\n",
       "      <td>2.862800e+04</td>\n",
       "      <td>NaN</td>\n",
       "      <td>1.223320e+05</td>\n",
       "      <td>NaN</td>\n",
       "      <td>1.234627e+04</td>\n",
       "      <td>NaN</td>\n",
       "      <td>1.229784e+04</td>\n",
       "      <td>NaN</td>\n",
       "      <td>NaN</td>\n",
       "      <td>0.000000e+00</td>\n",
       "    </tr>\n",
       "    <tr>\n",
       "      <th>max</th>\n",
       "      <td>NaN</td>\n",
       "      <td>3.563030e+05</td>\n",
       "      <td>NaN</td>\n",
       "      <td>3.562940e+05</td>\n",
       "      <td>NaN</td>\n",
       "      <td>1.046302e+12</td>\n",
       "      <td>NaN</td>\n",
       "      <td>1.046302e+12</td>\n",
       "      <td>NaN</td>\n",
       "      <td>NaN</td>\n",
       "      <td>1.000000e+00</td>\n",
       "    </tr>\n",
       "  </tbody>\n",
       "</table>\n",
       "</div>"
      ],
      "text/plain": [
       "               Timestamp     From Bank    Account       To Bank  Account.1  \\\n",
       "count            5078345  5.078345e+06    5078345  5.078345e+06    5078345   \n",
       "unique             15018           NaN     496995           NaN     420636   \n",
       "top     2022/09/01 00:04           NaN  100428660           NaN  100428660   \n",
       "freq               11193           NaN     168672           NaN       1084   \n",
       "mean                 NaN  4.573057e+04        NaN  6.574456e+04        NaN   \n",
       "std                  NaN  8.176562e+04        NaN  8.409299e+04        NaN   \n",
       "min                  NaN  1.000000e+00        NaN  1.000000e+00        NaN   \n",
       "25%                  NaN  1.190000e+02        NaN  4.259000e+03        NaN   \n",
       "50%                  NaN  9.679000e+03        NaN  2.156800e+04        NaN   \n",
       "75%                  NaN  2.862800e+04        NaN  1.223320e+05        NaN   \n",
       "max                  NaN  3.563030e+05        NaN  3.562940e+05        NaN   \n",
       "\n",
       "        Amount Received Receiving Currency   Amount Paid Payment Currency  \\\n",
       "count      5.078345e+06            5078345  5.078345e+06          5078345   \n",
       "unique              NaN                 15           NaN               15   \n",
       "top                 NaN          US Dollar           NaN        US Dollar   \n",
       "freq                NaN            1879341           NaN          1895172   \n",
       "mean       5.988726e+06                NaN  4.509273e+06              NaN   \n",
       "std        1.037183e+09                NaN  8.697728e+08              NaN   \n",
       "min        1.000000e-06                NaN  1.000000e-06              NaN   \n",
       "25%        1.833700e+02                NaN  1.844800e+02              NaN   \n",
       "50%        1.411010e+03                NaN  1.414540e+03              NaN   \n",
       "75%        1.234627e+04                NaN  1.229784e+04              NaN   \n",
       "max        1.046302e+12                NaN  1.046302e+12              NaN   \n",
       "\n",
       "       Payment Format  Is Laundering  \n",
       "count         5078345   5.078345e+06  \n",
       "unique              7            NaN  \n",
       "top            Cheque            NaN  \n",
       "freq          1864331            NaN  \n",
       "mean              NaN   1.019427e-03  \n",
       "std               NaN   3.191219e-02  \n",
       "min               NaN   0.000000e+00  \n",
       "25%               NaN   0.000000e+00  \n",
       "50%               NaN   0.000000e+00  \n",
       "75%               NaN   0.000000e+00  \n",
       "max               NaN   1.000000e+00  "
      ]
     },
     "execution_count": 11,
     "metadata": {},
     "output_type": "execute_result"
    }
   ],
   "source": [
    "df.describe(include='all')"
   ]
  },
  {
   "cell_type": "code",
   "execution_count": 8,
   "id": "84976400",
   "metadata": {},
   "outputs": [
    {
     "data": {
      "text/plain": [
       "0    5073168\n",
       "1       5177\n",
       "Name: Is Laundering, dtype: int64"
      ]
     },
     "execution_count": 8,
     "metadata": {},
     "output_type": "execute_result"
    }
   ],
   "source": [
    "df['Is Laundering'].value_counts()"
   ]
  },
  {
   "cell_type": "code",
   "execution_count": 66,
   "id": "2994a7fa",
   "metadata": {},
   "outputs": [
    {
     "data": {
      "text/plain": [
       "0.10194266045335636"
      ]
     },
     "execution_count": 66,
     "metadata": {},
     "output_type": "execute_result"
    }
   ],
   "source": [
    "len(df[df['Is Laundering'] == 1]) / len(df) * 100"
   ]
  },
  {
   "cell_type": "code",
   "execution_count": 12,
   "id": "d47f13a0",
   "metadata": {},
   "outputs": [
    {
     "data": {
      "text/plain": [
       "Timestamp             0\n",
       "From Bank             0\n",
       "Account               0\n",
       "To Bank               0\n",
       "Account.1             0\n",
       "Amount Received       0\n",
       "Receiving Currency    0\n",
       "Amount Paid           0\n",
       "Payment Currency      0\n",
       "Payment Format        0\n",
       "Is Laundering         0\n",
       "dtype: int64"
      ]
     },
     "execution_count": 12,
     "metadata": {},
     "output_type": "execute_result"
    }
   ],
   "source": [
    "df.isna().sum()"
   ]
  },
  {
   "cell_type": "code",
   "execution_count": 22,
   "id": "1ba4d8f4",
   "metadata": {},
   "outputs": [
    {
     "name": "stdout",
     "output_type": "stream",
     "text": [
      "Number of unique from banks:  30470\n",
      "Number of unique to banks:  15811\n"
     ]
    }
   ],
   "source": [
    "print(\"Number of unique from banks: \", df['From Bank'].nunique())\n",
    "print(\"Number of unique to banks: \", df['To Bank'].nunique())"
   ]
  },
  {
   "cell_type": "code",
   "execution_count": 23,
   "id": "dd06ddf4",
   "metadata": {},
   "outputs": [
    {
     "name": "stdout",
     "output_type": "stream",
     "text": [
      "Number of unique from accounts:  496995\n",
      "Number of unique to accounts:  420636\n"
     ]
    }
   ],
   "source": [
    "print(\"Number of unique from accounts: \", df['Account'].nunique())\n",
    "print(\"Number of unique to accounts: \", df['Account.1'].nunique())"
   ]
  },
  {
   "cell_type": "code",
   "execution_count": 25,
   "id": "63bad487",
   "metadata": {},
   "outputs": [
    {
     "data": {
      "text/plain": [
       "Cheque          1864331\n",
       "Credit Card     1323324\n",
       "ACH              600797\n",
       "Cash             490891\n",
       "Reinvestment     481056\n",
       "Wire             171855\n",
       "Bitcoin          146091\n",
       "Name: Payment Format, dtype: int64"
      ]
     },
     "execution_count": 25,
     "metadata": {},
     "output_type": "execute_result"
    }
   ],
   "source": [
    "df['Payment Format'].value_counts()"
   ]
  },
  {
   "cell_type": "code",
   "execution_count": 31,
   "id": "220b93d8",
   "metadata": {},
   "outputs": [
    {
     "name": "stdout",
     "output_type": "stream",
     "text": [
      "Payment Currency value counts: \n",
      " US Dollar            1895172\n",
      "Euro                 1168297\n",
      "Swiss Franc           234860\n",
      "Yuan                  213752\n",
      "Shekel                192184\n",
      "Rupee                 190202\n",
      "UK Pound              180738\n",
      "Yen                   155209\n",
      "Ruble                 155178\n",
      "Bitcoin               146066\n",
      "Canadian Dollar       140042\n",
      "Australian Dollar     136769\n",
      "Mexican Peso          110159\n",
      "Saudi Riyal            89014\n",
      "Brazil Real            70703\n",
      "Name: Payment Currency, dtype: int64\n",
      "Receiving Currency value counts: \n",
      " US Dollar            1879341\n",
      "Euro                 1172017\n",
      "Swiss Franc           237884\n",
      "Yuan                  206551\n",
      "Shekel                194988\n",
      "Rupee                 192065\n",
      "UK Pound              181255\n",
      "Ruble                 157361\n",
      "Yen                   156319\n",
      "Bitcoin               148151\n",
      "Canadian Dollar       141357\n",
      "Australian Dollar     138511\n",
      "Mexican Peso          111030\n",
      "Saudi Riyal            89971\n",
      "Brazil Real            71544\n",
      "Name: Receiving Currency, dtype: int64\n"
     ]
    }
   ],
   "source": [
    "print(\"Payment Currency value counts: \\n\", df['Payment Currency'].value_counts())\n",
    "print(\"Receiving Currency value counts: \\n\", df['Receiving Currency'].value_counts())"
   ]
  },
  {
   "cell_type": "code",
   "execution_count": 46,
   "id": "f0f503fb",
   "metadata": {},
   "outputs": [
    {
     "data": {
      "image/png": "[encoded data removed]",
      "text/plain": [
       "<Figure size 432x288 with 1 Axes>"
      ]
     },
     "metadata": {
      "needs_background": "light"
     },
     "output_type": "display_data"
    },
    {
     "name": "stdout",
     "output_type": "stream",
     "text": [
      "Amount Received min:  1e-06\n",
      "Amount Received max:  1046302363293.48\n",
      "Amount Received median:  1411.01\n",
      "Amount Received mean:  5988726.070072798\n",
      "Q1 =  183.37\n",
      "Q3 =  12346.27\n"
     ]
    }
   ],
   "source": [
    "# Create a boxplot of column 'A'\n",
    "plt.boxplot(df['Amount Received'])\n",
    "\n",
    "# Add title and labels\n",
    "plt.title('Boxplot of Amount Received')\n",
    "plt.xlabel('Amount Received')\n",
    "plt.ylabel('Values')\n",
    "\n",
    "# Display the plot\n",
    "plt.show()\n",
    "\n",
    "print(\"Amount Received min: \", df['Amount Received'].min())\n",
    "print(\"Amount Received max: \", df['Amount Received'].max())\n",
    "print(\"Amount Received median: \", df['Amount Received'].median())\n",
    "print(\"Amount Received mean: \", df['Amount Received'].mean())\n",
    "\n",
    "# Calculate first quartile (Q1) and third quartile (Q3)\n",
    "print(\"Q1 = \", df['Amount Received'].quantile(0.25))\n",
    "print(\"Q3 = \", df['Amount Received'].quantile(0.75))"
   ]
  },
  {
   "cell_type": "code",
   "execution_count": 47,
   "id": "b97f4daf",
   "metadata": {},
   "outputs": [
    {
     "data": {
      "image/png": "[encoded data removed]",
      "text/plain": [
       "<Figure size 432x288 with 1 Axes>"
      ]
     },
     "metadata": {
      "needs_background": "light"
     },
     "output_type": "display_data"
    },
    {
     "name": "stdout",
     "output_type": "stream",
     "text": [
      "Amount Paid min:  1e-06\n",
      "Amount Paid max:  1046302363293.48\n",
      "Amount Paid median:  1414.54\n",
      "Amount Paid mean:  4509273.3677414\n",
      "Q1 =  184.48\n",
      "Q3 =  12297.84\n"
     ]
    }
   ],
   "source": [
    "# Create a boxplot of column 'A'\n",
    "plt.boxplot(df['Amount Paid'])\n",
    "\n",
    "# Add title and labels\n",
    "plt.title('Boxplot of Amount Paid')\n",
    "plt.xlabel('Amount Paid')\n",
    "plt.ylabel('Values')\n",
    "\n",
    "# Display the plot\n",
    "plt.show()\n",
    "\n",
    "print(\"Amount Paid min: \", df['Amount Paid'].min())\n",
    "print(\"Amount Paid max: \", df['Amount Paid'].max())\n",
    "print(\"Amount Paid median: \", df['Amount Paid'].median())\n",
    "print(\"Amount Paid mean: \", df['Amount Paid'].mean())\n",
    "\n",
    "# Calculate first quartile (Q1) and third quartile (Q3)\n",
    "print(\"Q1 = \", df['Amount Paid'].quantile(0.25))\n",
    "print(\"Q3 = \", df['Amount Paid'].quantile(0.75))"
   ]
  },
  {
   "cell_type": "code",
   "execution_count": 54,
   "id": "032fba59",
   "metadata": {},
   "outputs": [
    {
     "data": {
      "text/plain": [
       "ACH            4483\n",
       "Cheque          324\n",
       "Credit Card     206\n",
       "Cash            108\n",
       "Bitcoin          56\n",
       "Name: Payment Format, dtype: int64"
      ]
     },
     "execution_count": 54,
     "metadata": {},
     "output_type": "execute_result"
    }
   ],
   "source": [
    "# Filter the DataFrame where 'is laundering' equals 1\n",
    "laundering_df = df[df['Is Laundering'] == 1]\n",
    "not_laundering_df = df[df['Is Laundering'] == 0]\n",
    "\n",
    "laundering_df['Payment Format'].value_counts()\n"
   ]
  },
  {
   "cell_type": "code",
   "execution_count": 50,
   "id": "0387b3f1",
   "metadata": {},
   "outputs": [
    {
     "data": {
      "text/plain": [
       "US Dollar            1912\n",
       "Euro                 1372\n",
       "Saudi Riyal           374\n",
       "Swiss Franc           193\n",
       "Yuan                  184\n",
       "Rupee                 167\n",
       "Yen                   155\n",
       "Ruble                 133\n",
       "UK Pound              132\n",
       "Canadian Dollar       128\n",
       "Australian Dollar     127\n",
       "Shekel                 95\n",
       "Mexican Peso           92\n",
       "Brazil Real            57\n",
       "Bitcoin                56\n",
       "Name: Payment Currency, dtype: int64"
      ]
     },
     "execution_count": 50,
     "metadata": {},
     "output_type": "execute_result"
    }
   ],
   "source": [
    "laundering_df['Payment Currency'].value_counts()\n"
   ]
  },
  {
   "cell_type": "code",
   "execution_count": 51,
   "id": "6d08abdd",
   "metadata": {},
   "outputs": [
    {
     "data": {
      "text/plain": [
       "US Dollar            1912\n",
       "Euro                 1372\n",
       "Saudi Riyal           374\n",
       "Swiss Franc           193\n",
       "Yuan                  184\n",
       "Rupee                 167\n",
       "Yen                   155\n",
       "Ruble                 133\n",
       "UK Pound              132\n",
       "Canadian Dollar       128\n",
       "Australian Dollar     127\n",
       "Shekel                 95\n",
       "Mexican Peso           92\n",
       "Brazil Real            57\n",
       "Bitcoin                56\n",
       "Name: Receiving Currency, dtype: int64"
      ]
     },
     "execution_count": 51,
     "metadata": {},
     "output_type": "execute_result"
    }
   ],
   "source": [
    "laundering_df['Receiving Currency'].value_counts()\n"
   ]
  },
  {
   "cell_type": "code",
   "execution_count": 53,
   "id": "00df8905",
   "metadata": {},
   "outputs": [
    {
     "name": "stdout",
     "output_type": "stream",
     "text": [
      "Amount Paid min in laundering transactions:  0.003227\n",
      "Amount Paid max in laundering transactions:  84853144179.58\n",
      "Amount Paid mean in laundering transactions:  36135310.41281265\n",
      "Amount Paid median in laundering transactions:  8667.21\n"
     ]
    }
   ],
   "source": [
    "print(\"Amount Paid min in laundering transactions: \", laundering_df['Amount Paid'].min())\n",
    "print(\"Amount Paid max in laundering transactions: \", laundering_df['Amount Paid'].max())\n",
    "print(\"Amount Paid mean in laundering transactions: \", laundering_df['Amount Paid'].mean())\n",
    "print(\"Amount Paid median in laundering transactions: \", laundering_df['Amount Paid'].median())\n"
   ]
  },
  {
   "cell_type": "code",
   "execution_count": 55,
   "id": "eee13857",
   "metadata": {},
   "outputs": [
    {
     "name": "stdout",
     "output_type": "stream",
     "text": [
      "Amount Paid min in not laundering transactions:  1e-06\n",
      "Amount Paid max in not laundering transactions:  1046302363293.48\n",
      "Amount Paid mean in not laundering transactions:  4477000.043896748\n",
      "Amount Paid median in not laundering transactions:  1410.99\n"
     ]
    }
   ],
   "source": [
    "print(\"Amount Paid min in not laundering transactions: \", not_laundering_df['Amount Paid'].min())\n",
    "print(\"Amount Paid max in not laundering transactions: \", not_laundering_df['Amount Paid'].max())\n",
    "print(\"Amount Paid mean in not laundering transactions: \", not_laundering_df['Amount Paid'].mean())\n",
    "print(\"Amount Paid median in not laundering transactions: \", not_laundering_df['Amount Paid'].median())\n"
   ]
  },
  {
   "cell_type": "code",
   "execution_count": 56,
   "id": "fb8b8d8d",
   "metadata": {},
   "outputs": [
    {
     "name": "stdout",
     "output_type": "stream",
     "text": [
      "Amount Received min in laundering transactions:  0.003227\n",
      "Amount Received max in laundering transactions:  84853144179.58\n",
      "Amount Received mean in laundering transactions:  36135310.41281265\n",
      "Amount Received median in laundering transactions:  8667.21\n"
     ]
    }
   ],
   "source": [
    "print(\"Amount Received min in laundering transactions: \", laundering_df['Amount Received'].min())\n",
    "print(\"Amount Received max in laundering transactions: \", laundering_df['Amount Received'].max())\n",
    "print(\"Amount Received mean in laundering transactions: \", laundering_df['Amount Received'].mean())\n",
    "print(\"Amount Received median in laundering transactions: \", laundering_df['Amount Received'].median())\n"
   ]
  },
  {
   "cell_type": "code",
   "execution_count": 60,
   "id": "580ffbcd",
   "metadata": {},
   "outputs": [
    {
     "data": {
      "text/html": [
       "<div>\n",
       "<style scoped>\n",
       "    .dataframe tbody tr th:only-of-type {\n",
       "        vertical-align: middle;\n",
       "    }\n",
       "\n",
       "    .dataframe tbody tr th {\n",
       "        vertical-align: top;\n",
       "    }\n",
       "\n",
       "    .dataframe thead th {\n",
       "        text-align: right;\n",
       "    }\n",
       "</style>\n",
       "<table border=\"1\" class=\"dataframe\">\n",
       "  <thead>\n",
       "    <tr style=\"text-align: right;\">\n",
       "      <th></th>\n",
       "      <th>Timestamp</th>\n",
       "      <th>From Bank</th>\n",
       "      <th>Account</th>\n",
       "      <th>To Bank</th>\n",
       "      <th>Account.1</th>\n",
       "      <th>Amount Received</th>\n",
       "      <th>Receiving Currency</th>\n",
       "      <th>Amount Paid</th>\n",
       "      <th>Payment Currency</th>\n",
       "      <th>Payment Format</th>\n",
       "      <th>Is Laundering</th>\n",
       "    </tr>\n",
       "  </thead>\n",
       "  <tbody>\n",
       "    <tr>\n",
       "      <th>557728</th>\n",
       "      <td>2022/09/01 07:25</td>\n",
       "      <td>4</td>\n",
       "      <td>806B9AF90</td>\n",
       "      <td>116781</td>\n",
       "      <td>806B9B6A0</td>\n",
       "      <td>8.485314e+10</td>\n",
       "      <td>Ruble</td>\n",
       "      <td>8.485314e+10</td>\n",
       "      <td>Ruble</td>\n",
       "      <td>ACH</td>\n",
       "      <td>1</td>\n",
       "    </tr>\n",
       "  </tbody>\n",
       "</table>\n",
       "</div>"
      ],
      "text/plain": [
       "               Timestamp  From Bank    Account  To Bank  Account.1  \\\n",
       "557728  2022/09/01 07:25          4  806B9AF90   116781  806B9B6A0   \n",
       "\n",
       "        Amount Received Receiving Currency   Amount Paid Payment Currency  \\\n",
       "557728     8.485314e+10              Ruble  8.485314e+10            Ruble   \n",
       "\n",
       "       Payment Format  Is Laundering  \n",
       "557728            ACH              1  "
      ]
     },
     "execution_count": 60,
     "metadata": {},
     "output_type": "execute_result"
    }
   ],
   "source": [
    "laundering_df[laundering_df['Amount Received'] == 84853144179.58]"
   ]
  },
  {
   "cell_type": "code",
   "execution_count": 57,
   "id": "2bf11666",
   "metadata": {},
   "outputs": [
    {
     "name": "stdout",
     "output_type": "stream",
     "text": [
      "Amount Received min in not laundering transactions:  1e-06\n",
      "Amount Received max in not laundering transactions:  1046302363293.48\n",
      "Amount Received mean in not laundering transactions:  5957962.478734538\n",
      "Amount Received median in not laundering transactions:  1407.51\n"
     ]
    }
   ],
   "source": [
    "print(\"Amount Received min in not laundering transactions: \", not_laundering_df['Amount Received'].min())\n",
    "print(\"Amount Received max in not laundering transactions: \", not_laundering_df['Amount Received'].max())\n",
    "print(\"Amount Received mean in not laundering transactions: \", not_laundering_df['Amount Received'].mean())\n",
    "print(\"Amount Received median in not laundering transactions: \", not_laundering_df['Amount Received'].median())\n"
   ]
  },
  {
   "cell_type": "code",
   "execution_count": 59,
   "id": "1d5ea92f",
   "metadata": {},
   "outputs": [
    {
     "data": {
      "text/html": [
       "<div>\n",
       "<style scoped>\n",
       "    .dataframe tbody tr th:only-of-type {\n",
       "        vertical-align: middle;\n",
       "    }\n",
       "\n",
       "    .dataframe tbody tr th {\n",
       "        vertical-align: top;\n",
       "    }\n",
       "\n",
       "    .dataframe thead th {\n",
       "        text-align: right;\n",
       "    }\n",
       "</style>\n",
       "<table border=\"1\" class=\"dataframe\">\n",
       "  <thead>\n",
       "    <tr style=\"text-align: right;\">\n",
       "      <th></th>\n",
       "      <th>Timestamp</th>\n",
       "      <th>From Bank</th>\n",
       "      <th>Account</th>\n",
       "      <th>To Bank</th>\n",
       "      <th>Account.1</th>\n",
       "      <th>Amount Received</th>\n",
       "      <th>Receiving Currency</th>\n",
       "      <th>Amount Paid</th>\n",
       "      <th>Payment Currency</th>\n",
       "      <th>Payment Format</th>\n",
       "      <th>Is Laundering</th>\n",
       "    </tr>\n",
       "  </thead>\n",
       "  <tbody>\n",
       "    <tr>\n",
       "      <th>3130043</th>\n",
       "      <td>2022/09/06 17:49</td>\n",
       "      <td>19925</td>\n",
       "      <td>803D95360</td>\n",
       "      <td>210185</td>\n",
       "      <td>803DA4620</td>\n",
       "      <td>1.046302e+12</td>\n",
       "      <td>Yen</td>\n",
       "      <td>1.046302e+12</td>\n",
       "      <td>Yen</td>\n",
       "      <td>ACH</td>\n",
       "      <td>0</td>\n",
       "    </tr>\n",
       "  </tbody>\n",
       "</table>\n",
       "</div>"
      ],
      "text/plain": [
       "                Timestamp  From Bank    Account  To Bank  Account.1  \\\n",
       "3130043  2022/09/06 17:49      19925  803D95360   210185  803DA4620   \n",
       "\n",
       "         Amount Received Receiving Currency   Amount Paid Payment Currency  \\\n",
       "3130043     1.046302e+12                Yen  1.046302e+12              Yen   \n",
       "\n",
       "        Payment Format  Is Laundering  \n",
       "3130043            ACH              0  "
      ]
     },
     "execution_count": 59,
     "metadata": {},
     "output_type": "execute_result"
    }
   ],
   "source": [
    "not_laundering_df[not_laundering_df['Amount Received'] == 1046302363293.48]"
   ]
  },
  {
   "cell_type": "code",
   "execution_count": 61,
   "id": "c3503d1f",
   "metadata": {},
   "outputs": [
    {
     "name": "stdout",
     "output_type": "stream",
     "text": [
      "Division result:\n",
      "Australian Dollar    0.000917\n",
      "Bitcoin              0.000378\n",
      "Brazil Real          0.000797\n",
      "Canadian Dollar      0.000906\n",
      "Euro                 0.001171\n",
      "Mexican Peso         0.000829\n",
      "Ruble                0.000845\n",
      "Rupee                0.000869\n",
      "Saudi Riyal          0.004157\n",
      "Shekel               0.000487\n",
      "Swiss Franc          0.000811\n",
      "UK Pound             0.000728\n",
      "US Dollar            0.001017\n",
      "Yen                  0.000992\n",
      "Yuan                 0.000891\n",
      "Name: Receiving Currency, dtype: float64\n"
     ]
    }
   ],
   "source": [
    "# Calculate value counts of 'Receiving Currency' for each DataFrame\n",
    "laundering_value_counts = laundering_df['Receiving Currency'].value_counts()\n",
    "df_value_counts = df['Receiving Currency'].value_counts()\n",
    "\n",
    "# Perform element-wise division\n",
    "percent_laundering_currency = laundering_value_counts / df_value_counts\n",
    "\n",
    "print(\"Division result:\")\n",
    "print(percent_laundering_currency)"
   ]
  },
  {
   "cell_type": "code",
   "execution_count": 62,
   "id": "65dedd50",
   "metadata": {},
   "outputs": [
    {
     "name": "stdout",
     "output_type": "stream",
     "text": [
      "Division result:\n",
      "Australian Dollar    0.000929\n",
      "Bitcoin              0.000383\n",
      "Brazil Real          0.000806\n",
      "Canadian Dollar      0.000914\n",
      "Euro                 0.001174\n",
      "Mexican Peso         0.000835\n",
      "Ruble                0.000857\n",
      "Rupee                0.000878\n",
      "Saudi Riyal          0.004202\n",
      "Shekel               0.000494\n",
      "Swiss Franc          0.000822\n",
      "UK Pound             0.000730\n",
      "US Dollar            0.001009\n",
      "Yen                  0.000999\n",
      "Yuan                 0.000861\n",
      "Name: Payment Currency, dtype: float64\n"
     ]
    }
   ],
   "source": [
    "# Calculate value counts of 'Receiving Currency' for each DataFrame\n",
    "laundering_value_counts = laundering_df['Payment Currency'].value_counts()\n",
    "df_value_counts = df['Payment Currency'].value_counts()\n",
    "\n",
    "# Perform element-wise division\n",
    "percent_laundering_currency = laundering_value_counts / df_value_counts\n",
    "\n",
    "print(\"Division result:\")\n",
    "print(percent_laundering_currency)"
   ]
  },
  {
   "cell_type": "code",
   "execution_count": 71,
   "id": "649503e5",
   "metadata": {},
   "outputs": [
    {
     "data": {
      "text/plain": [
       "2022    5078345\n",
       "Name: Timestamp, dtype: int64"
      ]
     },
     "execution_count": 71,
     "metadata": {},
     "output_type": "execute_result"
    }
   ],
   "source": [
    "# Convert the 'Timestamp' column to datetime format\n",
    "df['Timestamp'] = pd.to_datetime(df['Timestamp'])\n",
    "\n",
    "# Extract the year from the 'Timestamp' column\n",
    "df['Timestamp'].dt.year.value_counts()\n"
   ]
  },
  {
   "cell_type": "code",
   "execution_count": 72,
   "id": "9b7589f9",
   "metadata": {},
   "outputs": [
    {
     "data": {
      "text/plain": [
       "9    5078345\n",
       "Name: Timestamp, dtype: int64"
      ]
     },
     "execution_count": 72,
     "metadata": {},
     "output_type": "execute_result"
    }
   ],
   "source": [
    "df['Timestamp'].dt.month.value_counts()\n"
   ]
  },
  {
   "cell_type": "code",
   "execution_count": 73,
   "id": "94a1b1c6",
   "metadata": {},
   "outputs": [
    {
     "data": {
      "text/plain": [
       "1     1114921\n",
       "2      754449\n",
       "9      654467\n",
       "8      482773\n",
       "7      482751\n",
       "5      482650\n",
       "6      482089\n",
       "10     208325\n",
       "4      207430\n",
       "3      207382\n",
       "11        396\n",
       "12        281\n",
       "13        184\n",
       "14        121\n",
       "15         46\n",
       "16         46\n",
       "17         23\n",
       "18         11\n",
       "Name: Timestamp, dtype: int64"
      ]
     },
     "execution_count": 73,
     "metadata": {},
     "output_type": "execute_result"
    }
   ],
   "source": [
    "df['Timestamp'].dt.day.value_counts()\n"
   ]
  },
  {
   "cell_type": "code",
   "execution_count": 75,
   "id": "79f94969",
   "metadata": {},
   "outputs": [
    {
     "name": "stderr",
     "output_type": "stream",
     "text": [
      "<ipython-input-75-ffd05ad22730>:2: SettingWithCopyWarning: \n",
      "A value is trying to be set on a copy of a slice from a DataFrame.\n",
      "Try using .loc[row_indexer,col_indexer] = value instead\n",
      "\n",
      "See the caveats in the documentation: https://pandas.pydata.org/pandas-docs/stable/user_guide/indexing.html#returning-a-view-versus-a-copy\n",
      "  laundering_df['Timestamp'] = pd.to_datetime(laundering_df['Timestamp'])\n"
     ]
    },
    {
     "data": {
      "text/plain": [
       "8     539\n",
       "6     531\n",
       "9     514\n",
       "7     497\n",
       "5     471\n",
       "10    442\n",
       "2     408\n",
       "4     407\n",
       "3     391\n",
       "1     322\n",
       "11    232\n",
       "12    170\n",
       "13    106\n",
       "14     70\n",
       "15     28\n",
       "16     26\n",
       "17     15\n",
       "18      8\n",
       "Name: Timestamp, dtype: int64"
      ]
     },
     "execution_count": 75,
     "metadata": {},
     "output_type": "execute_result"
    }
   ],
   "source": [
    "# Convert the 'Timestamp' column to datetime format\n",
    "laundering_df['Timestamp'] = pd.to_datetime(laundering_df['Timestamp'])\n",
    "\n",
    "# Extract the year from the 'Timestamp' column\n",
    "laundering_df['Timestamp'].dt.day.value_counts()"
   ]
  },
  {
   "cell_type": "code",
   "execution_count": null,
   "id": "21f76971",
   "metadata": {},
   "outputs": [],
   "source": []
  }
 ],
 "metadata": {
  "kernelspec": {
   "display_name": "Python 3",
   "language": "python",
   "name": "python3"
  },
  "language_info": {
   "codemirror_mode": {
    "name": "ipython",
    "version": 3
   },
   "file_extension": ".py",
   "mimetype": "text/x-python",
   "name": "python",
   "nbconvert_exporter": "python",
   "pygments_lexer": "ipython3",
   "version": "3.9.16"
  }
 },
 "nbformat": 4,
 "nbformat_minor": 5
}
